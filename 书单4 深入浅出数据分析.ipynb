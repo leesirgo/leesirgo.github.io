{
 "cells": [
  {
   "cell_type": "markdown",
   "metadata": {},
   "source": [
    "# 概述\n"
   ]
  },
  {
   "cell_type": "markdown",
   "metadata": {},
   "source": [
    "# 周日20170924笔记\n",
    "## Acme公司化妆品销售案例\n",
    "**数据分析思路：**了解问题、确定问题、分解问题、评估问题、决策问题<br>\n",
    "1. **了解问题、确定问题：仔细询问你的客户，收集更多的信息来全方位了解问题**<br>\n",
    "例如：<br>\n",
    "你希望销量提高到多少？<br>\n",
    "你们的销售策略是什么？目标群体是谁？<br>\n",
    "你觉得销量提高多少可行？目标销量定的合理吗？<br>\n",
    "我们的竞争对手如何？<br>\n",
    "广告费和社交网络营销费是怎么回事？<br>\n",
    "2. **分解问题：回答小问题，解决大问题**<br>\n",
    "例如：<br>\n",
    "我们不能直接回答：**如何提高销量？**这个问题<br>但是，可以通过回答相关的小问题来解决这个大问题：<br>\n",
    "①<br>\n",
    "②<br>\n",
    "③<br>\n",
    "3. **评估问题**<br>\n",
    "核心：运用比较方法对之前分解模块进行对比<br>\n",
    "重点：**作出自己的明确假设，并且以自己的信用为自己的结论打赌！**<br>\n",
    "4. **解决问题：形成报表**<br>\n",
    "重点：**除非将分析形成报表供制定决策，否则分析将毫无意义**<br>\n",
    "报表结构：**问题背景、数据解说、建议**<br>"
   ]
  },
  {
   "cell_type": "code",
   "execution_count": null,
   "metadata": {
    "collapsed": true
   },
   "outputs": [],
   "source": []
  }
 ],
 "metadata": {
  "kernelspec": {
   "display_name": "Python 3",
   "language": "python",
   "name": "python3"
  },
  "language_info": {
   "codemirror_mode": {
    "name": "ipython",
    "version": 3
   },
   "file_extension": ".py",
   "mimetype": "text/x-python",
   "name": "python",
   "nbconvert_exporter": "python",
   "pygments_lexer": "ipython3",
   "version": "3.6.1"
  },
  "toc": {
   "nav_menu": {},
   "number_sections": true,
   "sideBar": true,
   "skip_h1_title": false,
   "toc_cell": false,
   "toc_position": {},
   "toc_section_display": "block",
   "toc_window_display": false
  }
 },
 "nbformat": 4,
 "nbformat_minor": 2
}
