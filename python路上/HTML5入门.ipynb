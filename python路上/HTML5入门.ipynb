{
 "cells": [
  {
   "cell_type": "markdown",
   "metadata": {},
   "source": [
    "# 写在前面\n",
    "由于既不是计算机专业，也没有从事相关工作，所以一开始只想从python编程语言学起，逐渐向数据处理、数据分析、文本分析方面深入发展，并不打算接触HTML这种前端的东西。不过，最近倒腾了很久Github blog的theme，其中主要就是HTML和CSS样式表之类的东西，只能在别人的基础上战战兢兢地修改，终究还是不能让自己满意。转而去网上搜索了下HTML，发现这东西还蛮有用，而且似乎不太难学。想到以后毕竟还是免不了会再次遇到这个拦路虎，还是决定将HTML加入在自己的技能箱中。说走咱就走，from now on ……"
   ]
  },
  {
   "cell_type": "markdown",
   "metadata": {},
   "source": [
    "# HTML5入门\n",
    "是的，标题是HTML5入门，而不是HTML入门，这是因为HTML5较之HTML4、HTML及其他之前的版本有较大改进。比如，引入视频不需要flash player这些东西。总之就是，HTML5的操作体验更加畅快了……<br>\n",
    "更重要的是，HTML5解决了电脑、手机、平板的兼容显示问题，这个很需要！\n",
    "## 什么是HTML\n",
    "[HTML百度百科](https://baike.baidu.com/item/HTML/97049?fr=aladdin)：HyperText Markup Language ，其中有个关键字markup，jupyter中也有这么一种模式。<br>\n",
    "HTML是标记语言，而不是编程语言（与python不是一类），它是用来将代码转换成浏览器上规整排列的文字、图片、视频等信息的工具。\n"
   ]
  },
  {
   "cell_type": "markdown",
   "metadata": {
    "collapsed": true
   },
   "source": [
    "# HTML5的特点\n",
    "文档第一行： **<!DOCTYPE html>**<br>\n",
    "这就是HTML5的特征，出现它浏览器就能识别处这篇文档是用HTML5编写的。<br>\n",
    "**补充：**对于中文网页需要使用如下的声明编码，否则会出现乱码。<br>"
   ]
  },
  {
   "cell_type": "raw",
   "metadata": {},
   "source": [
    "<!DOCTYPE html>;\n",
    "<meta charset=\"utf-8\">;"
   ]
  },
  {
   "cell_type": "markdown",
   "metadata": {},
   "source": [
    "## HTML5代码结构"
   ]
  },
  {
   "cell_type": "raw",
   "metadata": {},
   "source": [
    "<!DOCTYPE html>    %HTML5的标识\n",
    "<html>             %开篇\n",
    "<head>\n",
    "<meta charset=\"utf-8\">     %meta是，charset=\"utf-8\"是meta的一个属性，表示用utf-8解码以适合中文\n",
    "<title>文档标题</title>\n",
    "</head>\n",
    " \n",
    "<body>\n",
    "文档内容......\n",
    "</body>\n",
    " \n",
    "</html>"
   ]
  },
  {
   "cell_type": "markdown",
   "metadata": {},
   "source": [
    "**记住，HTML标记语言是成套的标签。**例如："
   ]
  },
  {
   "cell_type": "raw",
   "metadata": {},
   "source": [
    "<html>和</html>、<b> 和 </b>、<body>和</body>等等"
   ]
  },
  {
   "cell_type": "markdown",
   "metadata": {},
   "source": [
    "## 参考文档\n",
    "[萧苇之 HTML元素（包括HTML5）的标签、属性及事件大全 ](http://www.cnblogs.com/xiaoweizhi/p/4409971.html)<br>\n",
    "[HTML5学习交流平台](http://www.html5tricks.com/category/html5-demo/page/4)"
   ]
  },
  {
   "cell_type": "markdown",
   "metadata": {},
   "source": [
    "## 元素标签"
   ]
  },
  {
   "cell_type": "raw",
   "metadata": {},
   "source": [
    "<!–…–>     定义注释或者 \n",
    "\n",
    "ctrl+/ 快捷键直接让当前行成为注释，\n",
    "shift+ctrl+/ 快捷键将选中的文本转换为注释\n",
    "\n",
    "<!DOCTYPE> 定义文档类型\n",
    "<html></html>     创建一个HTML文档\n",
    "<head></head>     设置文档标题和其它在网页中不显示的信息\n",
    "<meta>     提供有关页面的元信息（meta-information），\n",
    "<title></title>   设置文档的标题        \n",
    "<h1></h1>         一级标题，最大的标题\n",
    "<h2></h2>         二级标题\n",
    "<h3></h3>         三级标题\n",
    "<h4></h4>         四级标题\n",
    "<h5></h5>         五级标题\n",
    "<h6></h6>         六级标题\n",
    "<pre></pre>       预先格式化文本          \n",
    "<u></u>           下划线\n",
    "<b></b>           黑体字    \n",
    "<i></i>           斜体字    \n",
    "<tt></tt>         打字机风格的字体\n",
    "<cite></cite>     引用,通常是斜体        \n",
    "<em></em>         强调文本(通常是斜体加黑体)\n",
    "<strong></strong> 加重文本(通常是斜体加黑体)\n",
    "<font size=\"\" color=\"\"></font>   设置字体大小从1到7，颜色使用名字或RGB的十六进制值\n",
    "<BASEFONT></BASEFONT>    基准字体标记\n",
    "<big></big>              字体加大\n",
    "<SMALL></SMALL>          字体缩小        \n",
    "<STRIKE></STRIKE>        加删除线\n",
    "<CODE></CODE>            程式码          \n",
    "<KBD></KBD>              键盘字\n",
    "<SAMP></SAMP>            范例    \n",
    "<VAR></VAR>              变量\n",
    "<BLOCKQUOTE></BLOCKQUOTE>     向右缩排\n",
    "<DFN></DFN>              述语定义\n",
    "<ADDRESS></ADDRESS>      地址标记\n",
    "<sup></SUP>              上标字    \n",
    "<SUB></SUB>              下标字\n",
    "<xmp>...</xmp>           固定寬度字体(在文件中空白、換行、定位功能有效)\n",
    "<plaintext>...</plaintext>  固定寬度字體(不執行標記符號)\n",
    "<listing>...</listing>   固定寬度小字體  \n",
    "<font color=00ff00>...</font> 字體顏色\n",
    "<font size=1>...</font>       最小字體  \n",
    "<font style ='font-size:100 px'>...</font>  無限增大"
   ]
  },
  {
   "cell_type": "markdown",
   "metadata": {},
   "source": [
    "## 格式标签"
   ]
  },
  {
   "cell_type": "raw",
   "metadata": {},
   "source": [
    "<p>  </p> 创建一个段落    \n",
    "<p align=\"\"> 将段落按左、中、右对齐 　\n",
    "<br>     换行 插入换行符  \n",
    "<blockquote></blockquote> 从两边缩进文本\n",
    "<dl>  </dl>   定义列表\n",
    "<dt>   放在每个定义术语词前\n",
    "<dd>   放在每个定义之前\n",
    "<ol></ol> 创建一个标有数字的列表  \n",
    "<ul></ul> 创建一个标有圆点的列表\n",
    "<li> 放在每个列表项之前,若在<ol></ol>之间则每个列表项加上一个数字,\n",
    "  若在<ul></ul>之间则每个列表项加上一个圆点 　 　\n",
    "<div align=\"\"></div> 用来排版大块HTML段落,也用于格式化表\n",
    "<MENU> 选项清单  \n",
    "<DIR> 目录清单  \n",
    "<nobr></nobr>   强行不换行\n",
    "<hr size='9' width='80%' color='ff0000'>水平線(設定寬度)  \n",
    "<center></center>   水平居中  "
   ]
  },
  {
   "cell_type": "markdown",
   "metadata": {},
   "source": [
    "## 链接标签"
   ]
  },
  {
   "cell_type": "raw",
   "metadata": {},
   "source": [
    "<a></a>  定义超链接\n",
    "<a href=\"URL\"></a> 创建超文本链接  \n",
    "<a href=\"mailtEMAIL\">\n",
    "</a> 创建自动发送电子邮件的链接  \n",
    "<a name=\"name\"></a> 创建位于文档内部的书签\n",
    "<a href=\"#name\"></a> 创建指向位于文档内部书签的链接\n",
    "<BASE> 文档中不能被该站点辨识的其它所有链接源的URL\n",
    "<LINK> 定义一个链接和源之间的相互关系 "
   ]
  },
  {
   "cell_type": "markdown",
   "metadata": {},
   "source": [
    "## 链接标记注解"
   ]
  },
  {
   "cell_type": "raw",
   "metadata": {},
   "source": [
    "◆target=\"...\"决定链接源在什么地方显示(用户自定义的名字，_blank,_parent,_self,_top\n",
    "◆rel=\"...\"发送链接的类型  \n",
    "◆rev=\"...\"保存链接的类型\n",
    "◆accesskey=\"...\"指定该元素的热键\n",
    "◆shape=\"...\"允许我们使用已定义的形状定义客户端的图形镜像(default，rect，circle，poly\n",
    "◆coord=\"...\"使用像素或者长度百分比来定义形状的尺寸\n",
    "◆tabindex=\"...\"使用定义过的tabindex元素设置在各个元素之间的焦点获取顺序(使用tab键使元素获得焦点)"
   ]
  },
  {
   "cell_type": "markdown",
   "metadata": {},
   "source": [
    "# 元素详解"
   ]
  },
  {
   "cell_type": "markdown",
   "metadata": {},
   "source": [
    "## a超链接"
   ]
  },
  {
   "cell_type": "raw",
   "metadata": {},
   "source": [
    " <a href=\"leesirgo.github.io\" target=\"_blank\">我的主页</a>"
   ]
  },
  {
   "cell_type": "markdown",
   "metadata": {},
   "source": [
    "\n",
    "a 是超链接的标志，**href、target**都是a的属性，**target=_blank**表示在新建窗口中打开这个超链接，默认是target=_self表示在当前窗口中打开这个超链接。"
   ]
  },
  {
   "cell_type": "markdown",
   "metadata": {},
   "source": [
    "## 表格"
   ]
  },
  {
   "cell_type": "code",
   "execution_count": null,
   "metadata": {
    "collapsed": true
   },
   "outputs": [],
   "source": []
  },
  {
   "cell_type": "raw",
   "metadata": {},
   "source": [
    "表格有<table>、<tr>、<td>三大元素"
   ]
  },
  {
   "cell_type": "code",
   "execution_count": null,
   "metadata": {
    "collapsed": true
   },
   "outputs": [],
   "source": []
  },
  {
   "cell_type": "code",
   "execution_count": null,
   "metadata": {
    "collapsed": true
   },
   "outputs": [],
   "source": []
  },
  {
   "cell_type": "markdown",
   "metadata": {
    "collapsed": true
   },
   "source": [
    "# 案例"
   ]
  },
  {
   "cell_type": "raw",
   "metadata": {},
   "source": [
    "<!DOCTYPE html> <!-- 使用 HTML5 doctype，不区分大小写 -->\n",
    "<html lang=\"zh-cmn-Hans\"> <!-- 更加标准的 lang 属性写法 http://zhi.hu/XyIa -->\n",
    "<head>\n",
    "    <!-- 声明文档使用的字符编码 -->\n",
    "    <meta charset='utf-8'>\n",
    "    <!-- 优先使用 IE 最新版本和 Chrome -->\n",
    "    <meta http-equiv=\"X-UA-Compatible\" content=\"IE=edge,chrome=1\"/>\n",
    "    <!-- 页面描述 -->\n",
    "    <meta name=\"description\" content=\"不超过150个字符\"/>\n",
    "    <!-- 页面关键词 -->\n",
    "    <meta name=\"keywords\" content=\"\"/>\n",
    "    <!-- 网页作者 -->\n",
    "    <meta name=\"author\" content=\"name, email@gmail.com\"/>\n",
    "    <!-- 搜索引擎抓取 -->\n",
    "    <meta name=\"robots\" content=\"index,follow\"/>\n",
    "    <!-- 为移动设备添加 viewport -->\n",
    "    <meta name=\"viewport\" content=\"initial-scale=1, maximum-scale=3, minimum-scale=1, user-scalable=no\">\n",
    "    <!-- `width=device-width` 会导致 iPhone 5 添加到主屏后以 WebApp 全屏模式打开页面时出现黑边 http://bigc.at/ios-webapp-viewport-meta.orz -->\n",
    " \n",
    "    <!-- iOS 设备 begin -->\n",
    "    <meta name=\"apple-mobile-web-app-title\" content=\"标题\">\n",
    "    <!-- 添加到主屏后的标题（iOS 6 新增） -->\n",
    "    <meta name=\"apple-mobile-web-app-capable\" content=\"yes\"/>\n",
    "    <!-- 是否启用 WebApp 全屏模式，删除苹果默认的工具栏和菜单栏 -->\n",
    " \n",
    "   \n",
    " \n",
    "    <link rel=\"alternate\" type=\"application/rss+xml\" title=\"RSS\" href=\"/rss.xml\"/>\n",
    "    <!-- 添加 RSS 订阅 -->\n",
    "    <link rel=\"shortcut icon\" type=\"image/ico\" href=\"/favicon.ico\"/>\n",
    "    <!-- 添加 favicon icon -->\n",
    " \n",
    "    <title>标题</title>\n",
    "</head>"
   ]
  },
  {
   "cell_type": "code",
   "execution_count": null,
   "metadata": {
    "collapsed": true
   },
   "outputs": [],
   "source": []
  }
 ],
 "metadata": {
  "kernelspec": {
   "display_name": "Python 3",
   "language": "python",
   "name": "python3"
  },
  "language_info": {
   "codemirror_mode": {
    "name": "ipython",
    "version": 3
   },
   "file_extension": ".py",
   "mimetype": "text/x-python",
   "name": "python",
   "nbconvert_exporter": "python",
   "pygments_lexer": "ipython3",
   "version": "3.6.1"
  },
  "toc": {
   "nav_menu": {},
   "number_sections": true,
   "sideBar": true,
   "skip_h1_title": false,
   "toc_cell": false,
   "toc_position": {},
   "toc_section_display": "block",
   "toc_window_display": false
  }
 },
 "nbformat": 4,
 "nbformat_minor": 2
}
