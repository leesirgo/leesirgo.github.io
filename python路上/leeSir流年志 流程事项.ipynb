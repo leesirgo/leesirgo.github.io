{
 "cells": [
  {
   "cell_type": "markdown",
   "metadata": {},
   "source": [
    "# jupyter转html\n",
    "1. cd /d E:\\leeSir流年志\\python路上<br>\n",
    "2. 选择1：jupyter nbconvert --to html 流程事项文章名.ipynb\n",
    "3. 选择2：jupyter nbconvert --to html --template full notebook.ipynb\n",
    "4. 选择3： jupyter nbconvert --to html --template basic notebook.ipynb\n",
    "5. 然后，打开新生成的html,复制到附带博客样式的html文档中 main、article content部分\n",
    "6. 最后，在index主文档中添加一个该文章的标题和链接。<br>\n",
    "\n",
    "**注意**：完成后的文章.html应该放在主目录下，若放在子目录中博客自身的样式引用将无法完成。<br>\n",
    "\n",
    "[jupyter转html 参考](http://blog.csdn.net/red_stone1/article/details/73380517)"
   ]
  },
  {
   "cell_type": "markdown",
   "metadata": {},
   "source": [
    "# 博客内容由本地部署到GitHub\n",
    "1. 创建SSH密钥；\n",
    "2. cd /d 所在目录    \n",
    "3. git init \n",
    "4. git add .   \n",
    "5. git clone https://github.com/leesirgo/leesirgo.github.io.git"
   ]
  },
  {
   "cell_type": "markdown",
   "metadata": {
    "collapsed": true
   },
   "source": [
    "# 其他注意\n",
    "1. 最后引用网络上的图片、音乐等；<br>\n",
    "2. 文章、相册中引用本地图片一定要用相对地址，否则上传到GitHub"
   ]
  }
 ],
 "metadata": {
  "kernelspec": {
   "display_name": "Python 3",
   "language": "python",
   "name": "python3"
  },
  "language_info": {
   "codemirror_mode": {
    "name": "ipython",
    "version": 3
   },
   "file_extension": ".py",
   "mimetype": "text/x-python",
   "name": "python",
   "nbconvert_exporter": "python",
   "pygments_lexer": "ipython3",
   "version": "3.6.1"
  },
  "toc": {
   "nav_menu": {},
   "number_sections": true,
   "sideBar": true,
   "skip_h1_title": false,
   "toc_cell": false,
   "toc_position": {},
   "toc_section_display": "block",
   "toc_window_display": false
  }
 },
 "nbformat": 4,
 "nbformat_minor": 2
}
