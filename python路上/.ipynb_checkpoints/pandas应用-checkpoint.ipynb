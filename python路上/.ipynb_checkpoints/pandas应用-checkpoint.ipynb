{
 "cells": [
  {
   "cell_type": "markdown",
   "metadata": {},
   "source": [
    "**tiān dì xuán huáng yǔ zhòu hóng huāng **<br>\n",
    "**天地玄黄，宇宙洪荒**<br>\n",
    "**rì yuè yíng zè\tchén xiù liè zhāng**<br>\n",
    "**日月盈昃，辰宿列张**<br>"
   ]
  },
  {
   "cell_type": "markdown",
   "metadata": {},
   "source": [
    "**【解释】天是青黑色的，地是黄色的，宇宙形成于混沌蒙昧的状态中。太阳正了又斜，月亮圆了又缺，星辰布满在无边的太空中。**"
   ]
  },
  {
   "cell_type": "markdown",
   "metadata": {
    "collapsed": true
   },
   "source": [
    "# 写在前面\n",
    "**pandas**，取名于panel data(面板数据)，其最大的特征就是具有灵活、高效的"
   ]
  }
 ],
 "metadata": {
  "kernelspec": {
   "display_name": "Python 3",
   "language": "python",
   "name": "python3"
  },
  "language_info": {
   "codemirror_mode": {
    "name": "ipython",
    "version": 3
   },
   "file_extension": ".py",
   "mimetype": "text/x-python",
   "name": "python",
   "nbconvert_exporter": "python",
   "pygments_lexer": "ipython3",
   "version": "3.6.1"
  },
  "toc": {
   "nav_menu": {},
   "number_sections": true,
   "sideBar": true,
   "skip_h1_title": false,
   "toc_cell": false,
   "toc_position": {},
   "toc_section_display": "block",
   "toc_window_display": false
  }
 },
 "nbformat": 4,
 "nbformat_minor": 2
}
