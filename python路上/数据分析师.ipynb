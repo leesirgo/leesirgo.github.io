{
 "cells": [
  {
   "cell_type": "markdown",
   "metadata": {},
   "source": [
    "# 基础知识和书单\n",
    "## 必备基础知识\n",
    "### 理论\n",
    "1. 统计学基础\n",
    "2. 常用模型理论\n",
    "3. python\n",
    "4. 网页分析\n",
    "5. 数据库技术\n",
    "6. 实战应用\n",
    "\n",
    "### 工具\n",
    "mysql（必备技能）、excel提高、python基础<br>\n",
    "## 书单\n",
    "《数据挖掘概念与技术》：k-means聚类、神经网络、关联规则等<br>\n",
    "《高级统计学》：相关分析、回归分析、时间序列、多元回归、logistics回归<br>\n",
    "《》<br>\n",
    "《》<br>\n",
    "《》<br>\n",
    "<img src=\"image\\数据分析书单.jpg\"><br>\n",
    "## 数据资源\n",
    "**[中国统计网]()**<br>\n",
    "****<br>\n",
    "****<br>\n",
    "****<br>\n",
    "****<br>\n",
    "****<br>\n",
    "## 参考连接\n",
    "[入职阿里巴巴数据分析师——我的10个关键转折点](https://zhuanlan.zhihu.com/p/21706535)<br>\n",
    "[]()<br>\n",
    "[]()<br>\n",
    "[]()<br>\n",
    "[]()<br>\n",
    "[]()<br>\n",
    "[]()<br>"
   ]
  },
  {
   "cell_type": "code",
   "execution_count": null,
   "metadata": {
    "collapsed": true
   },
   "outputs": [],
   "source": []
  }
 ],
 "metadata": {
  "kernelspec": {
   "display_name": "Python 3",
   "language": "python",
   "name": "python3"
  },
  "language_info": {
   "codemirror_mode": {
    "name": "ipython",
    "version": 3
   },
   "file_extension": ".py",
   "mimetype": "text/x-python",
   "name": "python",
   "nbconvert_exporter": "python",
   "pygments_lexer": "ipython3",
   "version": "3.6.1"
  },
  "toc": {
   "nav_menu": {},
   "number_sections": true,
   "sideBar": true,
   "skip_h1_title": false,
   "toc_cell": false,
   "toc_position": {},
   "toc_section_display": "block",
   "toc_window_display": false
  }
 },
 "nbformat": 4,
 "nbformat_minor": 2
}
