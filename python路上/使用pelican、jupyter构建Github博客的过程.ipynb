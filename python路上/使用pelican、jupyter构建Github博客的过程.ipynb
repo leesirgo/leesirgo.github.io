{
 "cells": [
  {
   "cell_type": "markdown",
   "metadata": {},
   "source": [
    "# 概述\n"
   ]
  },
  {
   "cell_type": "markdown",
   "metadata": {},
   "source": [
    "## github\n",
    "Github是什么？<br>\n",
    "[Github百度百科](https://baike.baidu.com/item/github/10145341?fr=aladdin)：一个面向开源及私有软件项目的托管平台，因为只支持git 作为唯一的版本库格式进行托管，故名gitHub。<br>\n",
    "Github能干什么？<br>\n",
    "[github功能](https://www.zhihu.com/question/20070065)：协同工作（写代码、写小说、翻译文档等）、个人展示（私人博客、简历）等等，功能之多，使得我们不得不加入进来。<br>\n",
    "## 关于jupyter和pelican\n",
    "前者是功能强大的文本笔记本（推荐使用），后者是一个将文本转换为HTML从而上传到博客的工具（不是重点）。因为他们都是python支持的工具，所以在搭建博客的时候就自然而然选择他们了。假装pythonic……"
   ]
  },
  {
   "cell_type": "markdown",
   "metadata": {},
   "source": [
    "# 搭建步骤"
   ]
  },
  {
   "cell_type": "markdown",
   "metadata": {},
   "source": [
    "具体步骤待述……"
   ]
  },
  {
   "cell_type": "markdown",
   "metadata": {},
   "source": [
    "## 关键点\n",
    "### 无法clone服务器的库\n",
    "将git clone git://github.com/getpelican/pelican.git 出错了<br>\n",
    "将jinweijie@ryan-vm-01/ICW/home/jinweijie/mydotnetproject<br>\n",
    "更改为：git clone 远程ssh用户@远程IP地址:/ICW/var/test/.git<br>\n",
    "参考：[git clone出错 看11楼](http://bbs.csdn.net/topics/390909877)\n",
    "\n",
    "### 最后一步出错，push失败\n",
    "用这个命令：git push -f origin master<br>\n",
    "参考：[push失败处理办法](http://blog.csdn.net/qq_27278679/article/details/70846625)\n",
    "\n",
    "### 没有主题，连基本的simple主题都没有\n",
    "在pelicanconf.py 文件中设置theme的路径为mo'r<br>"
   ]
  },
  {
   "cell_type": "markdown",
   "metadata": {},
   "source": [
    "# 装饰与布局"
   ]
  },
  {
   "cell_type": "markdown",
   "metadata": {},
   "source": [
    "## 日期格式"
   ]
  },
  {
   "cell_type": "markdown",
   "metadata": {},
   "source": [
    "## 主题\n",
    "从http://www.pelicanthemes.com/ 看选择主题，然后点击找到该主题的clone克隆地址，cd进入主题保存路径（自定义），然后进入命令行：\n"
   ]
  },
  {
   "cell_type": "markdown",
   "metadata": {},
   "source": [
    "cd /d E:\\leesitgoBLOG\\pelican-themes;\n",
    "git clone https://github.com/porterjamesj/crowsfoot/tree/30509fc0cf6d4c29f2d1d9ec87783340a7158538; #\"crowsfoot\"主题的地址"
   ]
  },
  {
   "cell_type": "markdown",
   "metadata": {},
   "source": [
    "打开pelicanconf.py配置文件，加入下面语句："
   ]
  },
  {
   "cell_type": "markdown",
   "metadata": {},
   "source": [
    "THEME = 'E:\\leesitgoBLOG\\pelican-themes\\crowsfoot'"
   ]
  },
  {
   "cell_type": "markdown",
   "metadata": {},
   "source": [
    "**当然，这还不够！**<br>\n",
    "我们只是将这个主题模块下载并加载上去了，但是其中各个日期格式、社交账号、头像照片等模块还需要在pelicanconf.py文件中依次配置。\n",
    "修改主题\n",
    "我们可以看到主题有两个目录，一个是css和icon的~一个是全部的HTML，CSS按照自己喜欢的方式添加修改~ HTML就是这个BLOG的核心部分，基本上所有的代码都是根据这个生成的。\n",
    "主页一般是base.html+index.html+....生成的\n",
    "我们可以通过观察修改不同的代码，以及我们也可以自己添加函数，标准函数都是{{xxxx.xxxx}}这样的~只要把对应的东西放在对应的位置就好~\n",
    "比如 让 网页的title显示的是文章的title而不是Blog的Title<br>\n",
    "[Pelican 的进阶-添加主题，插件](https://blog.chenjia.me/articles/140727-000300.html)"
   ]
  },
  {
   "cell_type": "markdown",
   "metadata": {},
   "source": [
    "**主题查看、引用：**<br>\n",
    "命令行中使用themes 命令查看主题：<br>\n",
    "\n",
    "pelicanconf.py文件中设置主题的选用：<br>\n",
    "1. 选用内置主题<br>\n",
    "THEME = \"notmyidea\"<br>\n",
    "2. 选用已通过pelican-themes tool工具安装的主题<br>\n",
    "THEME = \"chunk\"<br>\n",
    "3. 通过相对路径（即相对THEME_STATIC_PATHS (['static'])指定的主题存放路径）来选用主题<br>\n",
    "THEME = \"themes/mycustomtheme\"<br>\n",
    "4. 通过绝对路径（类似：E:\\leesitgoBLOG\\pelican-themes\\holo-pelican）来选用主题<br>\n",
    "THEME = \"~/projects/mysite/themes/mycustomtheme\"<br>\n",
    "<br>"
   ]
  },
  {
   "cell_type": "markdown",
   "metadata": {},
   "source": [
    "**其他相关知识：**<br>\n",
    "THEME_STATIC_DIR ('theme')：指定output文件夹下的主题转化后的存放路径，默认为theme子文件夹中；<br>\n",
    "THEME_STATIC_PATHS (['static'])：指定主题引用前的存放路径，即下载或clone的存放路径<br>\n",
    "CSS_FILE ('main.css')：指定CSS文件的引用路径。CSS是Cascading Style Sheets，层叠样式表，是HTLML的样式，很重要！<br>\n",
    "参考：<br>\n",
    "[pelican-themes Github官方](https://github.com/getpelican/pelican-themes)<br>\n",
    "[pelican-themes在线展示](http://www.pelicanthemes.com/)<br>\n",
    "[pelican-themes中文说明](http://pelican-docs-zh-cn.readthedocs.io/en/latest/pelican-themes.html)<br>\n",
    "[pelican theme制作详解](http://pelican-docs-zh-cn.readthedocs.io/en/latest/themes.html#theming-pelican)<br>"
   ]
  },
  {
   "cell_type": "markdown",
   "metadata": {},
   "source": [
    "base.html： 博客首页，输出位置：output/index.html<br>\n",
    "author.html：作者页，输出位置：output/author/author_name.html<br>\n",
    "category.html：对每个存在的分类进行处理，输出位置：output/category/category_name.htm<br>\n",
    "article.html：处理每一篇文章，保存.html文件位置：output/article_name.html<br>\n",
    "page.html：处理每一个页面，保存相关的.html文件位置： output/page_name.html<br>\n",
    "tag.html：处理每一个标签，保存相关的.html文件路径为： output/tag/tag_name.html<br>"
   ]
  },
  {
   "cell_type": "markdown",
   "metadata": {},
   "source": [
    "**自定义主题**<br>\n",
    "自己动手设计排版需要HTML基础，是个技术活。可参考这些资料：<br>\n",
    "[利用Jekyll在GitHub Pages上部署博客](http://blog.csdn.net/zhangao0086/article/details/37922607)<br>\n",
    "[搭建一个免费的，无限流量的Blog----github Pages和Jekyll入门](http://www.ruanyifeng.com/blog/2012/08/blogging_with_jekyll.html)<br>\n",
    "[使用 GitHub, Jekyll 打造自己的免费独立博客 ](http://blog.csdn.net/on_1y/article/details/19259435)"
   ]
  },
  {
   "cell_type": "markdown",
   "metadata": {},
   "source": [
    "# 开始博客之路"
   ]
  },
  {
   "cell_type": "markdown",
   "metadata": {},
   "source": [
    "## metadata文件与分类\n",
    "首先，必须先了解metadata文件，其中包含pelican将文章转化为HTML所需的各项参数，同时这些参数也与博客上文章题目、作者、分类标签等直接相关。\n",
    "1. metadata文件必须用UTF-8格式进行编码；<br>\n",
    "2. metadata各项参数及其在博客中的用途<br>\n",
    "\n",
    "项目|中文名称|必要与否|用途说明\n",
    "-|-|-|-\n",
    "Title|标题|必要参数|博客上呈现的题目\n",
    "Authors|作者|-|-\n",
    "Date|日期|-|-|-\n",
    "Modified|修改日其|-|-\n",
    "Category|分类|-|博客中的文章分类标签，也可通过USE_FOLDER_AS_CATEGORY = True更改为用子文件名代替\n",
    "Tags|标签|-|-\n",
    "Slug|文档的唯一标识|必要参数|pelican生成html时会直接使用这个值当html的文件名，具有唯一性，不能重复\n",
    "Status|文档状态|-|当设为‘draft’时，该文章也会生成html，但不会放在博客里，可通过分享url的方式让别人看见\n",
    "Summary|概述|-|-\n",
    "\n",
    "另注：<br>\n",
    "我们可以在content目录下任意建子目录来组织管理博客文章。由于我们在设置文件里指定这个值USE_FOLDER_AS_CATEGORY = True，这样这些目录名称就自动变成博文分类的目录了"
   ]
  },
  {
   "cell_type": "markdown",
   "metadata": {},
   "source": [
    "# 常见问题和说明"
   ]
  },
  {
   "cell_type": "markdown",
   "metadata": {},
   "source": [
    "## jupyter、pelican和Github的职责分工\n",
    "1. jupyter文档编辑器，即博文撰写的地方；<br>\n",
    "2. pelican是将写好的.md或者.ipynb格式文章转换为HTML格式，以便上传到网页；<br>\n",
    "3. Github，严格来说是Github page，利用该网站提供的免费page，以个人域名的方式发布到Internet.（这句话好像很不专业。业余爱好者撰写，慎重）"
   ]
  },
  {
   "cell_type": "markdown",
   "metadata": {},
   "source": [
    "## 引入jupyter带来的新问题\n",
    "1. 不同于maekdown编辑器可以在文章开头把pelican所需的metadata元数据（titile、date、slug等）直接录入，jupyter写博文需要在content文件夹下相同位置创建一个包含titile、date、slug等metadata数据的“同名.ipynb-meta”文件。<br>\n",
    "2. 还需注意，通常这个.ipynb-meta文件通过text文本编写，**需要将格式定义为UTF-8**，否则博文名称出现中文后将会报错，导致该博文不能成功上传。"
   ]
  },
  {
   "cell_type": "markdown",
   "metadata": {
    "collapsed": true
   },
   "source": [
    "## 在pelicanconf.py配置文件中直接加载图片\n",
    "**要点：**所有本地需要上传到博客的东西都在content目录下，所以在pelicanconf.py中可以用markdown语法引入图片。例如：<br>"
   ]
  },
  {
   "cell_type": "markdown",
   "metadata": {},
   "source": [
    "<img src=\"./images/profile.jpg\" style=\"width:760px;height:360px;float:left\">"
   ]
  },
  {
   "cell_type": "markdown",
   "metadata": {},
   "source": [
    "src=\"./images/profile.jpg 用的是profile.jpg相对contnet文件夹的相对路径。据说必须要用相对路径，不能用绝对路径。"
   ]
  },
  {
   "cell_type": "markdown",
   "metadata": {
    "collapsed": true
   },
   "source": [
    "## 修改theme的小建议\n",
    "**修改谁？**：2个，一是pelicanconf.py控制文件，二是，index.html、base.html、categories.html等theme文件；<br>\n",
    "**怎么改？**：<br>\n",
    "1. 修改文本\n",
    "2. 添加图片\n",
    "3. 添加视频\n",
    "4. 添加语音"
   ]
  },
  {
   "cell_type": "code",
   "execution_count": null,
   "metadata": {
    "collapsed": true
   },
   "outputs": [],
   "source": []
  }
 ],
 "metadata": {
  "kernelspec": {
   "display_name": "Python 3",
   "language": "python",
   "name": "python3"
  },
  "language_info": {
   "codemirror_mode": {
    "name": "ipython",
    "version": 3
   },
   "file_extension": ".py",
   "mimetype": "text/x-python",
   "name": "python",
   "nbconvert_exporter": "python",
   "pygments_lexer": "ipython3",
   "version": "3.6.1"
  },
  "toc": {
   "nav_menu": {},
   "number_sections": true,
   "sideBar": true,
   "skip_h1_title": false,
   "toc_cell": false,
   "toc_position": {
    "height": "479px",
    "left": "0px",
    "right": "auto",
    "top": "107px",
    "width": "212px"
   },
   "toc_section_display": "block",
   "toc_window_display": true
  }
 },
 "nbformat": 4,
 "nbformat_minor": 2
}
