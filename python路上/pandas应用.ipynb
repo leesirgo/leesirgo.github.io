{
 "cells": [
  {
   "cell_type": "markdown",
   "metadata": {},
   "source": [
    "**tiān dì xuán huáng yǔ zhòu hóng huāng **<br>\n",
    "**天地玄黄，宇宙洪荒**<br>\n",
    "**rì yuè yíng zè\tchén xiù liè zhāng**<br>\n",
    "**日月盈昃，辰宿列张**<br>"
   ]
  },
  {
   "cell_type": "markdown",
   "metadata": {},
   "source": [
    "**【解释】天是青黑色的，地是黄色的，宇宙形成于混沌蒙昧的状态中。太阳正了又斜，月亮圆了又缺，星辰布满在无边的太空中。**"
   ]
  },
  {
   "cell_type": "markdown",
   "metadata": {
    "collapsed": true
   },
   "source": [
    "# 写在前面\n",
    "**pandas**，取名于panel data(面板数据)，其最大的特征就是具有灵活、高效的dataframe对象，该对象源自数据处理的佼佼者R语言。总之，接触了pandas后真是不能不爱！<br>\n"
   ]
  },
  {
   "cell_type": "markdown",
   "metadata": {},
   "source": [
    "**参考文档**<br>\n",
    "**《利用python进行数据分析》**<br>\n",
    "[python官方文档](http://pandas.pydata.org/pandas-docs/stable/index.html)<br>\n"
   ]
  },
  {
   "cell_type": "markdown",
   "metadata": {},
   "source": [
    "# 必须注意的python基础特性"
   ]
  },
  {
   "cell_type": "markdown",
   "metadata": {},
   "source": [
    "**变量按引用传递**"
   ]
  },
  {
   "cell_type": "code",
   "execution_count": 2,
   "metadata": {},
   "outputs": [
    {
     "name": "stdout",
     "output_type": "stream",
     "text": [
      "[1, 2, 3, 4, 5, 8] [1, 2, 3, 4, 5, 8]\n"
     ]
    }
   ],
   "source": [
    "a=[1,2,3,4,5,8]\n",
    "b=a\n",
    "print(a,b)"
   ]
  },
  {
   "cell_type": "code",
   "execution_count": 4,
   "metadata": {},
   "outputs": [
    {
     "name": "stdout",
     "output_type": "stream",
     "text": [
      "[1, 2, 3, 4, 5, 8, 10] [1, 2, 3, 4, 5, 8, 10]\n"
     ]
    }
   ],
   "source": [
    "a.append(10)\n",
    "print(a,b)"
   ]
  },
  {
   "cell_type": "markdown",
   "metadata": {},
   "source": [
    "python中对变量赋值时，其实**是在创建等号右侧对象的一个引用**，等号右侧这个对象才是主体，左边的变量名不是主体，而是始终跟随随动。因此，赋值assignment操作也叫做**绑定binding**。"
   ]
  },
  {
   "cell_type": "markdown",
   "metadata": {},
   "source": [
    "**因此，python被称为是按引用传递的**。"
   ]
  },
  {
   "cell_type": "markdown",
   "metadata": {},
   "source": [
    "**python中的对象通常都既有属性attribute，又有方法method**"
   ]
  }
 ],
 "metadata": {
  "kernelspec": {
   "display_name": "Python 3",
   "language": "python",
   "name": "python3"
  },
  "language_info": {
   "codemirror_mode": {
    "name": "ipython",
    "version": 3
   },
   "file_extension": ".py",
   "mimetype": "text/x-python",
   "name": "python",
   "nbconvert_exporter": "python",
   "pygments_lexer": "ipython3",
   "version": "3.6.1"
  },
  "toc": {
   "nav_menu": {},
   "number_sections": true,
   "sideBar": true,
   "skip_h1_title": false,
   "toc_cell": false,
   "toc_position": {},
   "toc_section_display": "block",
   "toc_window_display": false
  }
 },
 "nbformat": 4,
 "nbformat_minor": 2
}
